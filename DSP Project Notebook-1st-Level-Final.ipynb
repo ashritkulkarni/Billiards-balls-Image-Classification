{
 "cells": [
  {
   "cell_type": "markdown",
   "metadata": {},
   "source": [
    "# Pool Ball Prediction"
   ]
  },
  {
   "cell_type": "markdown",
   "metadata": {},
   "source": [
    "# 1st Level Classification"
   ]
  },
  {
   "cell_type": "markdown",
   "metadata": {},
   "source": [
    "This notebook provides the 1st level classification of our project. ie, detecting pool ball into Solid or stripe "
   ]
  },
  {
   "cell_type": "markdown",
   "metadata": {},
   "source": [
    "# Dependencies"
   ]
  },
  {
   "cell_type": "code",
   "execution_count": 392,
   "metadata": {},
   "outputs": [],
   "source": [
    "#depedencies\n",
    "import pandas as pd\n",
    "import numpy as np\n",
    "import os\n",
    "import matplotlib.pyplot as plt\n",
    "from PIL import Image\n",
    "\n",
    "import keras\n",
    "from keras.models import Sequential\n",
    "from keras.layers import Dense, Conv2D, Flatten, Activation,MaxPooling2D,Dropout\n",
    "from sklearn.model_selection import StratifiedShuffleSplit\n",
    "from sklearn.model_selection import train_test_split\n",
    "from keras.callbacks import EarlyStopping\n",
    "from keras.layers import GuassianNoise\n",
    "from sklearn.metrics import confusion_matrix\n",
    "from sklearn.metrics import f1_score\n",
    "from sklearn.metrics import precision_score\n",
    "from sklearn.metrics import recall_score\n",
    "from sklearn.metrics import mean_squared_error, r2_score\n",
    "from math import sqrt\n",
    "\n",
    "import warnings\n",
    "warnings.filterwarnings(\"ignore\")"
   ]
  },
  {
   "cell_type": "markdown",
   "metadata": {},
   "source": [
    "# Import Dataset"
   ]
  },
  {
   "cell_type": "code",
   "execution_count": 393,
   "metadata": {},
   "outputs": [
    {
     "data": {
      "text/plain": [
       "['Black_Solid_8',\n",
       " 'Blue_Solid_2',\n",
       " 'Blue_Stripe_12',\n",
       " 'Brown_Solid_7',\n",
       " 'Brown_Stripe_15',\n",
       " 'Green_Solid_6',\n",
       " 'Green_Stripe_14',\n",
       " 'Orange_Solid_5',\n",
       " 'Orange_Stripe_13',\n",
       " 'Purple_Solid_4',\n",
       " 'Red_Solid_3',\n",
       " 'Red_Stripe_11',\n",
       " 'Yellow_Solid_1',\n",
       " 'Yellow_Stripe_9']"
      ]
     },
     "execution_count": 393,
     "metadata": {},
     "output_type": "execute_result"
    }
   ],
   "source": [
    "#Loading folders from Local System  \n",
    "ImageFolders=[]\n",
    "ImageFolders = os.listdir(\"D:/USF CourseWork/ISM 6251 DSP/FinalProject\")\n",
    "ImageFolders\n",
    "#We have 14 folders "
   ]
  },
  {
   "cell_type": "code",
   "execution_count": 394,
   "metadata": {},
   "outputs": [],
   "source": [
    "#Loading Image Names from all the folders into databrae\n",
    "Total_data = []\n",
    "ImageFile = [0] * len(ImageFolders)\n",
    "length = 0\n",
    "for i in range(0,len(ImageFolders)):\n",
    "    ImageFile[i] = os.listdir(\"D:/USF CourseWork/ISM 6251 DSP/FinalProject\" + \"/\" + str(ImageFolders[i]))\n",
    "    length = length + len(ImageFile[i])    \n",
    "#ImageFile\n"
   ]
  },
  {
   "cell_type": "code",
   "execution_count": 395,
   "metadata": {},
   "outputs": [],
   "source": [
    "#loading images as numpy array into Jupyter notebook into a list\n",
    "ImageFiles = []\n",
    "for j in range(0, len(ImageFolders)):\n",
    "    for k in range(0,len(ImageFile[j])):\n",
    "        Img=np.array(Image.open(\"D:/USF CourseWork/ISM 6251 DSP/FinalProject\" + \"/\" + str(ImageFolders[j])+ \"/\" + str(ImageFile[j][k])).resize((160,120)))\n",
    "        Total_data.append([Img, ImageFolders[j]])"
   ]
  },
  {
   "cell_type": "markdown",
   "metadata": {},
   "source": [
    "# Preprocessing"
   ]
  },
  {
   "cell_type": "code",
   "execution_count": 396,
   "metadata": {},
   "outputs": [
    {
     "data": {
      "text/html": [
       "<div>\n",
       "<style scoped>\n",
       "    .dataframe tbody tr th:only-of-type {\n",
       "        vertical-align: middle;\n",
       "    }\n",
       "\n",
       "    .dataframe tbody tr th {\n",
       "        vertical-align: top;\n",
       "    }\n",
       "\n",
       "    .dataframe thead th {\n",
       "        text-align: right;\n",
       "    }\n",
       "</style>\n",
       "<table border=\"1\" class=\"dataframe\">\n",
       "  <thead>\n",
       "    <tr style=\"text-align: right;\">\n",
       "      <th></th>\n",
       "      <th>Images</th>\n",
       "      <th>Labels</th>\n",
       "    </tr>\n",
       "  </thead>\n",
       "  <tbody>\n",
       "    <tr>\n",
       "      <th>0</th>\n",
       "      <td>[[[158, 103, 49], [158, 103, 47], [159, 104, 4...</td>\n",
       "      <td>Black_Solid_8</td>\n",
       "    </tr>\n",
       "    <tr>\n",
       "      <th>1</th>\n",
       "      <td>[[[157, 105, 53], [159, 108, 55], [162, 112, 5...</td>\n",
       "      <td>Black_Solid_8</td>\n",
       "    </tr>\n",
       "  </tbody>\n",
       "</table>\n",
       "</div>"
      ],
      "text/plain": [
       "                                              Images         Labels\n",
       "0  [[[158, 103, 49], [158, 103, 47], [159, 104, 4...  Black_Solid_8\n",
       "1  [[[157, 105, 53], [159, 108, 55], [162, 112, 5...  Black_Solid_8"
      ]
     },
     "execution_count": 396,
     "metadata": {},
     "output_type": "execute_result"
    }
   ],
   "source": [
    "# Converting Image list into pandas dataframe\n",
    "ImageDF = pd.DataFrame(Total_data)\n",
    "ImageDF=ImageDF.rename(columns={0: 'Images',1:'Labels'}) #rename pandas dataframe column names\n",
    "ImageDF.head(2)"
   ]
  },
  {
   "cell_type": "code",
   "execution_count": 397,
   "metadata": {},
   "outputs": [],
   "source": [
    "#Since loading images take lots of time, lets make a backup copy of the image files\n",
    "ImageDF1=ImageDF.copy()"
   ]
  },
  {
   "cell_type": "code",
   "execution_count": 398,
   "metadata": {},
   "outputs": [
    {
     "data": {
      "text/html": [
       "<div>\n",
       "<style scoped>\n",
       "    .dataframe tbody tr th:only-of-type {\n",
       "        vertical-align: middle;\n",
       "    }\n",
       "\n",
       "    .dataframe tbody tr th {\n",
       "        vertical-align: top;\n",
       "    }\n",
       "\n",
       "    .dataframe thead th {\n",
       "        text-align: right;\n",
       "    }\n",
       "</style>\n",
       "<table border=\"1\" class=\"dataframe\">\n",
       "  <thead>\n",
       "    <tr style=\"text-align: right;\">\n",
       "      <th></th>\n",
       "      <th>Images</th>\n",
       "      <th>Labels</th>\n",
       "      <th>Color</th>\n",
       "      <th>Type</th>\n",
       "      <th>Number</th>\n",
       "    </tr>\n",
       "  </thead>\n",
       "  <tbody>\n",
       "    <tr>\n",
       "      <th>0</th>\n",
       "      <td>[[[158, 103, 49], [158, 103, 47], [159, 104, 4...</td>\n",
       "      <td>Black_Solid_8</td>\n",
       "      <td>Black</td>\n",
       "      <td>Solid</td>\n",
       "      <td>8</td>\n",
       "    </tr>\n",
       "    <tr>\n",
       "      <th>1</th>\n",
       "      <td>[[[157, 105, 53], [159, 108, 55], [162, 112, 5...</td>\n",
       "      <td>Black_Solid_8</td>\n",
       "      <td>Black</td>\n",
       "      <td>Solid</td>\n",
       "      <td>8</td>\n",
       "    </tr>\n",
       "    <tr>\n",
       "      <th>2</th>\n",
       "      <td>[[[163, 114, 36], [164, 115, 43], [161, 113, 4...</td>\n",
       "      <td>Black_Solid_8</td>\n",
       "      <td>Black</td>\n",
       "      <td>Solid</td>\n",
       "      <td>8</td>\n",
       "    </tr>\n",
       "  </tbody>\n",
       "</table>\n",
       "</div>"
      ],
      "text/plain": [
       "                                              Images         Labels  Color  \\\n",
       "0  [[[158, 103, 49], [158, 103, 47], [159, 104, 4...  Black_Solid_8  Black   \n",
       "1  [[[157, 105, 53], [159, 108, 55], [162, 112, 5...  Black_Solid_8  Black   \n",
       "2  [[[163, 114, 36], [164, 115, 43], [161, 113, 4...  Black_Solid_8  Black   \n",
       "\n",
       "    Type Number  \n",
       "0  Solid      8  \n",
       "1  Solid      8  \n",
       "2  Solid      8  "
      ]
     },
     "execution_count": 398,
     "metadata": {},
     "output_type": "execute_result"
    }
   ],
   "source": [
    "#Split label column into Colour type and Number \n",
    "ImageDF1[['Color','Type','Number']] = ImageDF1.Labels.str.split(\"_\",expand=True)\n",
    "ImageDF1.head(3)"
   ]
  },
  {
   "cell_type": "code",
   "execution_count": 399,
   "metadata": {
    "scrolled": false
   },
   "outputs": [
    {
     "data": {
      "text/html": [
       "<div>\n",
       "<style scoped>\n",
       "    .dataframe tbody tr th:only-of-type {\n",
       "        vertical-align: middle;\n",
       "    }\n",
       "\n",
       "    .dataframe tbody tr th {\n",
       "        vertical-align: top;\n",
       "    }\n",
       "\n",
       "    .dataframe thead th {\n",
       "        text-align: right;\n",
       "    }\n",
       "</style>\n",
       "<table border=\"1\" class=\"dataframe\">\n",
       "  <thead>\n",
       "    <tr style=\"text-align: right;\">\n",
       "      <th></th>\n",
       "      <th>Images</th>\n",
       "      <th>Type</th>\n",
       "    </tr>\n",
       "  </thead>\n",
       "  <tbody>\n",
       "    <tr>\n",
       "      <th>0</th>\n",
       "      <td>[[[158, 103, 49], [158, 103, 47], [159, 104, 4...</td>\n",
       "      <td>Solid</td>\n",
       "    </tr>\n",
       "    <tr>\n",
       "      <th>1</th>\n",
       "      <td>[[[157, 105, 53], [159, 108, 55], [162, 112, 5...</td>\n",
       "      <td>Solid</td>\n",
       "    </tr>\n",
       "    <tr>\n",
       "      <th>2</th>\n",
       "      <td>[[[163, 114, 36], [164, 115, 43], [161, 113, 4...</td>\n",
       "      <td>Solid</td>\n",
       "    </tr>\n",
       "  </tbody>\n",
       "</table>\n",
       "</div>"
      ],
      "text/plain": [
       "                                              Images   Type\n",
       "0  [[[158, 103, 49], [158, 103, 47], [159, 104, 4...  Solid\n",
       "1  [[[157, 105, 53], [159, 108, 55], [162, 112, 5...  Solid\n",
       "2  [[[163, 114, 36], [164, 115, 43], [161, 113, 4...  Solid"
      ]
     },
     "execution_count": 399,
     "metadata": {},
     "output_type": "execute_result"
    }
   ],
   "source": [
    "#Type dataframe for 1st level classsification, colour dataframe for 2nd level classsification\n",
    "ImageDF_Type = ImageDF1[['Images','Type']]\n",
    "ImageDF_Color = ImageDF1[['Images','Color','Type']]\n",
    "ImageDF_Type.head(3)"
   ]
  },
  {
   "cell_type": "code",
   "execution_count": 714,
   "metadata": {},
   "outputs": [
    {
     "name": "stdout",
     "output_type": "stream",
     "text": [
      "StratifiedShuffleSplit(n_splits=5, random_state=42, test_size=0.2,\n",
      "            train_size=None)\n"
     ]
    }
   ],
   "source": [
    "#Creating Test Set by startified split test size \"20%\"\n",
    "\n",
    "split = StratifiedShuffleSplit(n_splits=5,test_size = 0.2,random_state = 42)\n",
    "print(split)\n",
    "for train_index,test_index in split.split(ImageDF_Type,ImageDF_Type[\"Type\"]):\n",
    "    train_set = ImageDF_Type.iloc[train_index]\n",
    "    test_set = ImageDF_Type.iloc[test_index]\n"
   ]
  },
  {
   "cell_type": "code",
   "execution_count": 715,
   "metadata": {},
   "outputs": [
    {
     "name": "stdout",
     "output_type": "stream",
     "text": [
      "(1401,) (351,) (351,) (351,)\n"
     ]
    }
   ],
   "source": [
    "##Creating Validation Set by startified split test size \"20%\"\n",
    "\n",
    "X_train,X_val,y_train,y_val = train_test_split(train_set[\"Images\"],train_set[\"Type\"],test_size=0.2,random_state=42)\n",
    "print(X_train.shape,X_val.shape,y_val.shape,y_val.shape)"
   ]
  },
  {
   "cell_type": "code",
   "execution_count": 716,
   "metadata": {},
   "outputs": [],
   "source": [
    "#Converting Labels into binary Categorical variables.\n",
    "#y_train = pd.factorize(y_train)\n",
    "y_train_new=[0]*len(y_train)\n",
    "for i in range (0,len(y_train)):\n",
    "    if y_train.iloc[i] == 'Stripe':\n",
    "        y_train_new[i]=[1];\n",
    "    elif y_train.iloc[i] == 'Solid':\n",
    "        y_train_new[i]=[0];"
   ]
  },
  {
   "cell_type": "code",
   "execution_count": 717,
   "metadata": {},
   "outputs": [],
   "source": [
    "#converting labels of train into numpy array for model\n",
    "y_train_new_array=np.array(y_train_new)"
   ]
  },
  {
   "cell_type": "code",
   "execution_count": 718,
   "metadata": {},
   "outputs": [],
   "source": [
    "#Similarly to Validation set\n",
    "y_val_new=[0]*len(y_val)\n",
    "for i in range (0,len(y_val)):\n",
    "    if y_val.iloc[i] == 'Stripe':\n",
    "        y_val_new[i]=[1];\n",
    "    elif y_val.iloc[i] == 'Solid':\n",
    "        y_val_new[i]=[0]\n",
    "y_val_new_array=np.array(y_val_new)"
   ]
  },
  {
   "cell_type": "code",
   "execution_count": 719,
   "metadata": {},
   "outputs": [],
   "source": [
    "y_val_new_array=np.array(y_val_new)"
   ]
  },
  {
   "cell_type": "code",
   "execution_count": 720,
   "metadata": {},
   "outputs": [],
   "source": [
    "#converting each 3d image in a list into 4D tensor array as we need for input to CNN\n",
    "X_train_new =[0] * len(X_train) \n",
    "for i in range(0,len(X_train)):\n",
    "    X_train_new[i] = np.reshape((X_train.iloc[i]),(120,160,3))\n",
    "\n",
    "X_train_array = np.asarray(X_train_new)\n",
    "\n",
    "X_val_new=[0] * len(X_val)\n",
    "for i in range(0,len(X_val)):\n",
    "    X_val_new[i] = np.reshape((X_val.iloc[i]),(120,160,3))\n",
    "    \n",
    "X_val_array = np.asarray(X_val_new)"
   ]
  },
  {
   "cell_type": "markdown",
   "metadata": {},
   "source": [
    "# Modelling"
   ]
  },
  {
   "cell_type": "code",
   "execution_count": 721,
   "metadata": {},
   "outputs": [],
   "source": [
    "#model defining for CNN 1st level\n",
    "from keras.layers import GaussianNoise\n",
    "model = Sequential()\n",
    "model.add(Conv2D(32, (3, 3), padding='same',\n",
    "                 input_shape=X_train_array.shape[1:]))\n",
    "model.add(GaussianNoise(0.1))\n",
    "model.add(Activation('relu'))\n",
    "model.add(Conv2D(32, (3, 3)))\n",
    "model.add(Activation('relu'))\n",
    "model.add(MaxPooling2D(pool_size=(2, 2)))\n",
    "model.add(Dropout(0.25))\n",
    "\n",
    "model.add(Conv2D(64, (3, 3), padding='same'))\n",
    "model.add(GaussianNoise(0.1))\n",
    "model.add(Activation('relu'))\n",
    "model.add(Conv2D(64, (3, 3)))\n",
    "model.add(Activation('relu'))\n",
    "model.add(MaxPooling2D(pool_size=(2, 2)))\n",
    "model.add(Dropout(0.25))\n",
    "\n",
    "model.add(Flatten())\n",
    "model.add(Dense(512))\n",
    "model.add(Activation('relu'))\n",
    "model.add(Dropout(0.5))\n",
    "model.add(Dense(2))\n",
    "model.add(Activation('softmax'))"
   ]
  },
  {
   "cell_type": "code",
   "execution_count": 722,
   "metadata": {},
   "outputs": [],
   "source": [
    "# initiate RMSprop optimizer\n",
    "opt = keras.optimizers.RMSprop(learning_rate=0.0001, decay=1e-6)"
   ]
  },
  {
   "cell_type": "code",
   "execution_count": 723,
   "metadata": {},
   "outputs": [],
   "source": [
    "# Let's train the model using RMSprop\n",
    "model.compile(loss='sparse_categorical_crossentropy',optimizer=opt,metrics=['accuracy'])\n",
    "es = EarlyStopping(monitor='val_accuracy',patience=5, verbose=1, mode='max')"
   ]
  },
  {
   "cell_type": "code",
   "execution_count": 724,
   "metadata": {},
   "outputs": [],
   "source": [
    "#normalising image \n",
    "X_train_array = X_train_array.astype('float32')\n",
    "X_val_array = X_val_array.astype('float32')\n",
    "X_train_array /= 255\n",
    "X_val_array /= 255"
   ]
  },
  {
   "cell_type": "code",
   "execution_count": 660,
   "metadata": {},
   "outputs": [
    {
     "name": "stdout",
     "output_type": "stream",
     "text": [
      "Train on 1401 samples, validate on 351 samples\n",
      "Epoch 1/10\n",
      "1401/1401 [==============================] - 127s 91ms/step - loss: 1.1027 - accuracy: 0.5739 - val_loss: 0.6512 - val_accuracy: 0.6068\n",
      "Epoch 2/10\n",
      "1401/1401 [==============================] - 127s 90ms/step - loss: 0.6228 - accuracy: 0.6481 - val_loss: 0.5582 - val_accuracy: 0.6895\n",
      "Epoch 3/10\n",
      "1401/1401 [==============================] - 128s 91ms/step - loss: 0.4558 - accuracy: 0.7687 - val_loss: 0.5197 - val_accuracy: 0.6895\n",
      "Epoch 4/10\n",
      "1401/1401 [==============================] - 127s 91ms/step - loss: 0.3529 - accuracy: 0.8301 - val_loss: 0.4329 - val_accuracy: 0.7578\n",
      "Epoch 5/10\n",
      "1401/1401 [==============================] - 127s 91ms/step - loss: 0.2812 - accuracy: 0.8580 - val_loss: 0.4779 - val_accuracy: 0.7692\n",
      "Epoch 6/10\n",
      "1401/1401 [==============================] - 125s 89ms/step - loss: 0.2212 - accuracy: 0.8979 - val_loss: 0.2464 - val_accuracy: 0.8889\n",
      "Epoch 7/10\n",
      "1401/1401 [==============================] - 127s 91ms/step - loss: 0.1688 - accuracy: 0.9293 - val_loss: 0.2305 - val_accuracy: 0.9088\n",
      "Epoch 8/10\n",
      "1401/1401 [==============================] - 125s 89ms/step - loss: 0.1328 - accuracy: 0.9443 - val_loss: 0.2322 - val_accuracy: 0.9117\n",
      "Epoch 9/10\n",
      "1401/1401 [==============================] - 124s 89ms/step - loss: 0.0964 - accuracy: 0.9615 - val_loss: 0.2820 - val_accuracy: 0.8917\n",
      "Epoch 10/10\n",
      "1401/1401 [==============================] - 123s 88ms/step - loss: 0.0747 - accuracy: 0.9679 - val_loss: 0.2746 - val_accuracy: 0.9088\n"
     ]
    }
   ],
   "source": [
    "#fitting model\n",
    "Model1=model.fit(X_train_array, y_train_new_array,\n",
    "              batch_size=32,\n",
    "              epochs=10,\n",
    "              validation_data=(X_val_array, y_val_new_array),\n",
    "              shuffle=True,callbacks=[es])"
   ]
  },
  {
   "cell_type": "code",
   "execution_count": 711,
   "metadata": {},
   "outputs": [
    {
     "data": {
      "image/png": "[encoded data removed]",
      "text/plain": [
       "<Figure size 432x288 with 1 Axes>"
      ]
     },
     "metadata": {
      "needs_background": "light"
     },
     "output_type": "display_data"
    },
    {
     "data": {
      "image/png": "[encoded data removed]",
      "text/plain": [
       "<Figure size 432x288 with 1 Axes>"
      ]
     },
     "metadata": {
      "needs_background": "light"
     },
     "output_type": "display_data"
    }
   ],
   "source": [
    "#Learning curves\n",
    "plt.plot(Model1.history['accuracy'])\n",
    "plt.plot(Model1.history['val_accuracy'])\n",
    "plt.title('Model accuracy')\n",
    "plt.ylabel('Accuracy')\n",
    "plt.xlabel('Epoch')\n",
    "plt.legend(['Train', 'Val'], loc='upper left')\n",
    "plt.show()\n",
    "\n",
    "# Plot training & validation loss values\n",
    "plt.plot(Model1.history['loss'])\n",
    "plt.plot(Model1.history['val_loss'])\n",
    "plt.title('Model loss')\n",
    "plt.ylabel('Loss')\n",
    "plt.xlabel('Epoch')\n",
    "plt.legend(['Train', 'Val'], loc='upper left')\n",
    "plt.show()"
   ]
  },
  {
   "cell_type": "markdown",
   "metadata": {},
   "source": [
    "### From the above Learning Curve we can see that with increase in epochs the model accuracy has increased and loss has decreased. Our test and Validation accuracy of the model are  0.96  and 0.90 respectively."
   ]
  },
  {
   "cell_type": "markdown",
   "metadata": {},
   "source": [
    "# model evaluation on test set"
   ]
  },
  {
   "cell_type": "code",
   "execution_count": 585,
   "metadata": {},
   "outputs": [],
   "source": [
    "X_test_set=test_set[\"Images\"]\n",
    "Y_test_set=test_set[\"Type\"]"
   ]
  },
  {
   "cell_type": "code",
   "execution_count": 586,
   "metadata": {},
   "outputs": [],
   "source": [
    "Y_test_set_list=[0]*len(Y_test_set)\n",
    "for i in range (0,len(Y_test_set)):\n",
    "    if Y_test_set.iloc[i] == 'Stripe':\n",
    "        Y_test_set_list[i]=[1];\n",
    "    elif Y_test_set.iloc[i] == 'Solid':\n",
    "        Y_test_set_list[i]=[0];\n",
    "Y_test_set_array=np.array(Y_test_set_list)"
   ]
  },
  {
   "cell_type": "code",
   "execution_count": 587,
   "metadata": {},
   "outputs": [],
   "source": [
    "X_test_set_list =[0] * len(X_test_set) \n",
    "for i in range(0,len(X_test_set)):\n",
    "    X_test_set_list[i] = np.reshape((X_test_set.iloc[i]),(120,160,3))\n",
    "\n",
    "X_test_set_array = np.asarray(X_test_set_list)\n",
    "\n",
    "X_test_set_array = X_test_set_array.astype('float32')\n",
    "X_test_set_array /= 255"
   ]
  },
  {
   "cell_type": "code",
   "execution_count": 588,
   "metadata": {
    "scrolled": true
   },
   "outputs": [
    {
     "name": "stdout",
     "output_type": "stream",
     "text": [
      "439/439 [==============================] - 6s 13ms/step\n",
      "Test loss: 0.09597241651937195\n",
      "Test accuracy: 0.9567198157310486\n"
     ]
    }
   ],
   "source": [
    "#Evaluating model\n",
    "scores = model.evaluate(X_test_set_array, Y_test_set_array, verbose=1)\n",
    "print('Test loss:', scores[0])\n",
    "print('Test accuracy:', scores[1])"
   ]
  },
  {
   "cell_type": "markdown",
   "metadata": {},
   "source": [
    "Our model has tried to achieve 95% test accuracy"
   ]
  },
  {
   "cell_type": "code",
   "execution_count": 589,
   "metadata": {},
   "outputs": [],
   "source": [
    "predictions=model.predict_classes(X_test_set_array)"
   ]
  },
  {
   "cell_type": "code",
   "execution_count": 590,
   "metadata": {},
   "outputs": [
    {
     "data": {
      "text/plain": [
       "array([[270,   0],\n",
       "       [ 19, 150]], dtype=int64)"
      ]
     },
     "execution_count": 590,
     "metadata": {},
     "output_type": "execute_result"
    }
   ],
   "source": [
    "#Confusion matrix\n",
    "confusion_matrix(Y_test_set_array, predictions)"
   ]
  },
  {
   "cell_type": "code",
   "execution_count": 591,
   "metadata": {},
   "outputs": [
    {
     "name": "stdout",
     "output_type": "stream",
     "text": [
      "Precision score of 1st level classifier:1.00\n",
      "Recall score of 1st level classifier:0.89\n"
     ]
    }
   ],
   "source": [
    "#Precision and recall\n",
    "print('Precision score of 1st level classifier:%.2f'%precision_score(Y_test_set_array, predictions))\n",
    "print('Recall score of 1st level classifier:%.2f'%recall_score(Y_test_set_array, predictions))"
   ]
  },
  {
   "cell_type": "code",
   "execution_count": 592,
   "metadata": {},
   "outputs": [
    {
     "name": "stdout",
     "output_type": "stream",
     "text": [
      "F1 score of first MLP classifier:0.94\n"
     ]
    }
   ],
   "source": [
    "print('F1 score of first MLP classifier:%.2f'%f1_score(y_test_new2_array, predictions))"
   ]
  },
  {
   "cell_type": "markdown",
   "metadata": {},
   "source": [
    "Our model's F1 score is 0.94 and it is on par with the accuracy"
   ]
  },
  {
   "cell_type": "markdown",
   "metadata": {},
   "source": [
    "# With data generator"
   ]
  },
  {
   "cell_type": "code",
   "execution_count": 725,
   "metadata": {},
   "outputs": [],
   "source": [
    "from keras.preprocessing.image import ImageDataGenerator"
   ]
  },
  {
   "cell_type": "code",
   "execution_count": 726,
   "metadata": {
    "scrolled": true
   },
   "outputs": [
    {
     "name": "stdout",
     "output_type": "stream",
     "text": [
      "Epoch 1/20\n",
      "44/44 [==============================] - 90s 2s/step - loss: 1.1792 - accuracy: 0.5460 - val_loss: 0.6867 - val_accuracy: 0.6068\n",
      "Epoch 2/20\n",
      "44/44 [==============================] - 94s 2s/step - loss: 0.6885 - accuracy: 0.5882 - val_loss: 0.6803 - val_accuracy: 0.6068\n",
      "Epoch 3/20\n",
      "44/44 [==============================] - 94s 2s/step - loss: 0.6728 - accuracy: 0.6146 - val_loss: 0.6766 - val_accuracy: 0.6068\n",
      "Epoch 4/20\n",
      "44/44 [==============================] - 95s 2s/step - loss: 0.6618 - accuracy: 0.6196 - val_loss: 0.6737 - val_accuracy: 0.6068\n",
      "Epoch 5/20\n",
      "44/44 [==============================] - 94s 2s/step - loss: 0.6412 - accuracy: 0.6203 - val_loss: 0.6400 - val_accuracy: 0.6268\n",
      "Epoch 6/20\n",
      "44/44 [==============================] - 104s 2s/step - loss: 0.5922 - accuracy: 0.6902 - val_loss: 0.6203 - val_accuracy: 0.7151\n",
      "Epoch 7/20\n",
      "44/44 [==============================] - 98s 2s/step - loss: 0.5431 - accuracy: 0.7238 - val_loss: 0.5383 - val_accuracy: 0.7123\n",
      "Epoch 8/20\n",
      "44/44 [==============================] - 109s 2s/step - loss: 0.4887 - accuracy: 0.7645 - val_loss: 0.5556 - val_accuracy: 0.7009\n",
      "Epoch 9/20\n",
      "44/44 [==============================] - 125s 3s/step - loss: 0.4744 - accuracy: 0.7787 - val_loss: 0.5067 - val_accuracy: 0.7350\n",
      "Epoch 10/20\n",
      "44/44 [==============================] - 213s 5s/step - loss: 0.4367 - accuracy: 0.8016 - val_loss: 0.5232 - val_accuracy: 0.7094\n",
      "Epoch 11/20\n",
      "44/44 [==============================] - 174s 4s/step - loss: 0.4096 - accuracy: 0.8094 - val_loss: 0.5144 - val_accuracy: 0.7322\n",
      "Epoch 12/20\n",
      "44/44 [==============================] - 126s 3s/step - loss: 0.3895 - accuracy: 0.8330 - val_loss: 0.4952 - val_accuracy: 0.7407\n",
      "Epoch 13/20\n",
      "44/44 [==============================] - 93s 2s/step - loss: 0.3837 - accuracy: 0.8187 - val_loss: 0.4069 - val_accuracy: 0.8063\n",
      "Epoch 14/20\n",
      "44/44 [==============================] - 94s 2s/step - loss: 0.3866 - accuracy: 0.8223 - val_loss: 0.3906 - val_accuracy: 0.8091\n",
      "Epoch 15/20\n",
      "44/44 [==============================] - 94s 2s/step - loss: 0.3883 - accuracy: 0.8258 - val_loss: 0.4087 - val_accuracy: 0.8006\n",
      "Epoch 16/20\n",
      "44/44 [==============================] - 108s 2s/step - loss: 0.3369 - accuracy: 0.8537 - val_loss: 0.3160 - val_accuracy: 0.8462\n",
      "Epoch 17/20\n",
      "44/44 [==============================] - 94s 2s/step - loss: 0.3255 - accuracy: 0.8630 - val_loss: 0.2971 - val_accuracy: 0.8632\n",
      "Epoch 18/20\n",
      "44/44 [==============================] - 109s 2s/step - loss: 0.3317 - accuracy: 0.8622 - val_loss: 0.4280 - val_accuracy: 0.7607\n",
      "Epoch 19/20\n",
      "44/44 [==============================] - 110s 2s/step - loss: 0.2960 - accuracy: 0.8744 - val_loss: 0.2659 - val_accuracy: 0.8889\n",
      "Epoch 20/20\n",
      "44/44 [==============================] - 110s 3s/step - loss: 0.2942 - accuracy: 0.8687 - val_loss: 0.3539 - val_accuracy: 0.8262\n"
     ]
    }
   ],
   "source": [
    "datagen = ImageDataGenerator(\n",
    "        featurewise_center=False,  # set input mean to 0 over the dataset\n",
    "        samplewise_center=False,  # set each sample mean to 0\n",
    "        featurewise_std_normalization=False,  # divide inputs by std of the dataset\n",
    "        samplewise_std_normalization=False,  # divide each input by its std\n",
    "        zca_whitening=False,  # apply ZCA whitening\n",
    "        zca_epsilon=1e-06,  # epsilon for ZCA whitening\n",
    "        rotation_range=0,  # randomly rotate images in the range (degrees, 0 to 180)\n",
    "        # randomly shift images horizontally (fraction of total width)\n",
    "        width_shift_range=0.1,\n",
    "        # randomly shift images vertically (fraction of total height)\n",
    "        height_shift_range=0.1,\n",
    "        shear_range=0.3,  \n",
    "        zoom_range=0.3,  \n",
    "        channel_shift_range=0.2,  \n",
    "        fill_mode='nearest',\n",
    "        cval=0.2,  \n",
    "        horizontal_flip=True,  # randomly flip images\n",
    "        vertical_flip=True,  # randomly flip images\n",
    "        rescale=None,\n",
    "        preprocessing_function=None,\n",
    "        data_format=None,\n",
    "        validation_split=0.2)\n",
    "datagen.fit(X_train_array)\n",
    "Model2=model.fit_generator(datagen.flow(X_train_array, y_train_new_array,\n",
    "                                     batch_size=32),\n",
    "                        epochs=20,\n",
    "                        validation_data=(X_val_array, y_val_new_array),\n",
    "                        workers=4)"
   ]
  },
  {
   "cell_type": "code",
   "execution_count": 727,
   "metadata": {},
   "outputs": [
    {
     "data": {
      "image/png": "[encoded data removed]",
      "text/plain": [
       "<Figure size 432x288 with 1 Axes>"
      ]
     },
     "metadata": {
      "needs_background": "light"
     },
     "output_type": "display_data"
    },
    {
     "data": {
      "image/png": "[encoded data removed]",
      "text/plain": [
       "<Figure size 432x288 with 1 Axes>"
      ]
     },
     "metadata": {
      "needs_background": "light"
     },
     "output_type": "display_data"
    }
   ],
   "source": [
    "#Learning curves\n",
    "plt.plot(Model2.history['accuracy'])\n",
    "plt.plot(Model2.history['val_accuracy'])\n",
    "plt.title('Model accuracy')\n",
    "plt.ylabel('Accuracy')\n",
    "plt.xlabel('Epoch')\n",
    "plt.legend(['Train', 'Val'], loc='upper left')\n",
    "plt.show()\n",
    "\n",
    "# Plot training & validation loss values\n",
    "plt.plot(Model2.history['loss'])\n",
    "plt.plot(Model2.history['val_loss'])\n",
    "plt.title('Model loss')\n",
    "plt.ylabel('Loss')\n",
    "plt.xlabel('Epoch')\n",
    "plt.legend(['Train', 'Val'], loc='upper left')\n",
    "plt.show()"
   ]
  },
  {
   "cell_type": "code",
   "execution_count": 728,
   "metadata": {},
   "outputs": [
    {
     "name": "stdout",
     "output_type": "stream",
     "text": [
      "439/439 [==============================] - 4s 9ms/step\n",
      "Test loss: 0.28581935123186175\n",
      "Test accuracy: 0.8656036257743835\n"
     ]
    }
   ],
   "source": [
    "scores = model.evaluate(X_test_set_array, Y_test_set_array, verbose=1)\n",
    "print('Test loss:', scores[0])\n",
    "print('Test accuracy:', scores[1])"
   ]
  },
  {
   "cell_type": "code",
   "execution_count": 729,
   "metadata": {},
   "outputs": [],
   "source": [
    "predictions=model.predict_classes(X_test_set_array)"
   ]
  },
  {
   "cell_type": "code",
   "execution_count": 730,
   "metadata": {},
   "outputs": [
    {
     "data": {
      "text/plain": [
       "array([[220,  50],\n",
       "       [  9, 160]], dtype=int64)"
      ]
     },
     "execution_count": 730,
     "metadata": {},
     "output_type": "execute_result"
    }
   ],
   "source": [
    "#Confusion matrix\n",
    "confusion_matrix(Y_test_set_array, predictions)"
   ]
  },
  {
   "cell_type": "code",
   "execution_count": 731,
   "metadata": {},
   "outputs": [
    {
     "name": "stdout",
     "output_type": "stream",
     "text": [
      "F1 score of first version of classifier:0.84\n"
     ]
    }
   ],
   "source": [
    "print('F1 score of first version of classifier:%.2f'%f1_score(y_test_new2_array, predictions))"
   ]
  },
  {
   "cell_type": "markdown",
   "metadata": {},
   "source": [
    "F1 score has been decreased from 0.94 to 0.88. but model generalised more"
   ]
  },
  {
   "cell_type": "code",
   "execution_count": null,
   "metadata": {},
   "outputs": [],
   "source": []
  }
 ],
 "metadata": {
  "kernelspec": {
   "display_name": "Python 3",
   "language": "python",
   "name": "python3"
  },
  "language_info": {
   "codemirror_mode": {
    "name": "ipython",
    "version": 3
   },
   "file_extension": ".py",
   "mimetype": "text/x-python",
   "name": "python",
   "nbconvert_exporter": "python",
   "pygments_lexer": "ipython3",
   "version": "3.7.6"
  }
 },
 "nbformat": 4,
 "nbformat_minor": 2
}
