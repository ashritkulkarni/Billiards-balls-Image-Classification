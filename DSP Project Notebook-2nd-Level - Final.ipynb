{
 "cells": [
  {
   "cell_type": "markdown",
   "metadata": {},
   "source": [
    "**Importing Libraries**"
   ]
  },
  {
   "cell_type": "code",
   "execution_count": 2,
   "metadata": {},
   "outputs": [
    {
     "name": "stderr",
     "output_type": "stream",
     "text": [
      "Using TensorFlow backend.\n"
     ]
    }
   ],
   "source": [
    "#Import all the required libraries\n",
    "import pandas as pd\n",
    "import numpy as np\n",
    "import os\n",
    "import matplotlib.pyplot as plt\n",
    "from PIL import Image\n",
    "from sklearn.model_selection import StratifiedShuffleSplit\n",
    "from keras.models import Sequential\n",
    "from keras.layers import Dense, Conv2D, Flatten, MaxPooling2D,Activation,Dropout,GaussianNoise\n",
    "from keras.callbacks import EarlyStopping\n",
    "import keras\n"
   ]
  },
  {
   "cell_type": "code",
   "execution_count": 3,
   "metadata": {},
   "outputs": [
    {
     "data": {
      "text/plain": [
       "['Black_Solid_8',\n",
       " 'Blue_Solid_2',\n",
       " 'Blue_Stripe_12',\n",
       " 'Brown_Solid_7',\n",
       " 'Brown_Stripe_15',\n",
       " 'Green_Solid_6',\n",
       " 'Green_Stripe_14',\n",
       " 'Orange_Solid_5',\n",
       " 'Orange_Stripe_13',\n",
       " 'Purple_Solid_4',\n",
       " 'Red_Solid_3',\n",
       " 'Red_Stripe_11',\n",
       " 'White_Cue',\n",
       " 'Yellow_Solid_1',\n",
       " 'Yellow_Stripe_9']"
      ]
     },
     "execution_count": 3,
     "metadata": {},
     "output_type": "execute_result"
    }
   ],
   "source": [
    "#Loading the image folders and reading them\n",
    "ImageFolders=[]\n",
    "\n",
    "ImageFolders = os.listdir(\"C:/Users/nagar/Desktop/DSP Projects/Pool Balls\")\n",
    "ImageFolders"
   ]
  },
  {
   "cell_type": "code",
   "execution_count": 4,
   "metadata": {},
   "outputs": [],
   "source": [
    "#listing the images in the folders listed above\n",
    "Total_data = []\n",
    "\n",
    "from PIL import Image\n",
    "ImageFile = [0] * len(ImageFolders)\n",
    "length = 0\n",
    "for i in range(0,len(ImageFolders)):\n",
    "    ImageFile[i] = os.listdir(\"C:/Users/nagar/Desktop/DSP Projects/Pool Balls\" + \"/\" + str(ImageFolders[i]))\n",
    "    length = length + len(ImageFile[i])\n",
    "    \n"
   ]
  },
  {
   "cell_type": "code",
   "execution_count": 5,
   "metadata": {},
   "outputs": [],
   "source": [
    "#Converting the images into arrays and resizing them to 120*160 and storing them in a list\n",
    "ImageFiles = []\n",
    "\n",
    "for j in range(0, len(ImageFolders)):\n",
    "    for k in range(0,len(ImageFile[j])):\n",
    "        Img=np.array(Image.open(\"C:/Users/nagar/Desktop/DSP Projects/Pool Balls\" + \"/\" + str(ImageFolders[j])+ \"/\" + str(ImageFile[j][k])).resize((160,120)))\n",
    "        Total_data.append([Img, ImageFolders[j]])"
   ]
  },
  {
   "cell_type": "code",
   "execution_count": 6,
   "metadata": {},
   "outputs": [
    {
     "data": {
      "text/plain": [
       "array([[161, 108,  56],\n",
       "       [160, 105,  49],\n",
       "       [161, 106,  49],\n",
       "       [161, 106,  49],\n",
       "       [163, 108,  54],\n",
       "       [163, 115,  67],\n",
       "       [167, 119,  73],\n",
       "       [164, 116,  70],\n",
       "       [168, 117,  70],\n",
       "       [161, 107,  63],\n",
       "       [154,  95,  51],\n",
       "       [154,  93,  49],\n",
       "       [155,  93,  52],\n",
       "       [162, 106,  57],\n",
       "       [169, 119,  68],\n",
       "       [169, 127,  79],\n",
       "       [173, 135,  96],\n",
       "       [176, 138,  99],\n",
       "       [172, 137,  99],\n",
       "       [173, 137, 105],\n",
       "       [182, 144, 108],\n",
       "       [181, 143, 107],\n",
       "       [179, 140,  99],\n",
       "       [175, 133,  91],\n",
       "       [181, 139,  97],\n",
       "       [168, 124,  87],\n",
       "       [158, 114,  77],\n",
       "       [166, 130, 104],\n",
       "       [169, 138, 120],\n",
       "       [174, 141, 122],\n",
       "       [153, 121, 100],\n",
       "       [153, 117,  93],\n",
       "       [164, 125,  96],\n",
       "       [168, 124,  89],\n",
       "       [179, 135,  98],\n",
       "       [181, 137, 100],\n",
       "       [178, 133, 100],\n",
       "       [177, 132, 103],\n",
       "       [167, 118,  88],\n",
       "       [181, 136, 103],\n",
       "       [184, 140, 105],\n",
       "       [180, 135, 102],\n",
       "       [179, 136, 104],\n",
       "       [173, 128,  97],\n",
       "       [174, 133, 101],\n",
       "       [184, 146, 110],\n",
       "       [187, 148, 115],\n",
       "       [185, 146, 113],\n",
       "       [180, 140, 105],\n",
       "       [178, 137, 105],\n",
       "       [191, 152, 121],\n",
       "       [193, 154, 121],\n",
       "       [192, 153, 122],\n",
       "       [195, 156, 127],\n",
       "       [189, 148, 120],\n",
       "       [191, 150, 118],\n",
       "       [190, 151, 118],\n",
       "       [188, 149, 116],\n",
       "       [193, 153, 118],\n",
       "       [186, 146, 111],\n",
       "       [185, 142, 108],\n",
       "       [181, 137, 108],\n",
       "       [180, 135, 102],\n",
       "       [183, 139, 110],\n",
       "       [180, 135, 106],\n",
       "       [177, 132, 101],\n",
       "       [182, 137, 104],\n",
       "       [175, 126,  93],\n",
       "       [190, 146, 109],\n",
       "       [192, 149, 114],\n",
       "       [192, 149, 114],\n",
       "       [193, 153, 118],\n",
       "       [187, 147, 112],\n",
       "       [191, 152, 123],\n",
       "       [192, 155, 128],\n",
       "       [178, 138, 112],\n",
       "       [179, 139, 113],\n",
       "       [182, 139, 107],\n",
       "       [179, 136, 104],\n",
       "       [184, 144, 109],\n",
       "       [176, 133,  99],\n",
       "       [190, 155, 127],\n",
       "       [185, 150, 122],\n",
       "       [190, 155, 127],\n",
       "       [184, 145, 114],\n",
       "       [174, 135, 106],\n",
       "       [183, 145, 109],\n",
       "       [184, 148, 116],\n",
       "       [196, 163, 130],\n",
       "       [194, 163, 132],\n",
       "       [193, 164, 130],\n",
       "       [193, 167, 134],\n",
       "       [191, 165, 130],\n",
       "       [193, 164, 134],\n",
       "       [182, 147, 117],\n",
       "       [181, 142, 111],\n",
       "       [182, 143, 114],\n",
       "       [181, 140, 112],\n",
       "       [185, 145, 119],\n",
       "       [171, 130, 102],\n",
       "       [169, 127, 103],\n",
       "       [188, 151, 124],\n",
       "       [190, 156, 129],\n",
       "       [192, 157, 135],\n",
       "       [175, 133, 108],\n",
       "       [181, 149, 138],\n",
       "       [182, 162, 153],\n",
       "       [186, 166, 155],\n",
       "       [127, 121, 109],\n",
       "       [139, 129, 120],\n",
       "       [174, 152, 139],\n",
       "       [185, 164, 143],\n",
       "       [188, 167, 146],\n",
       "       [185, 163, 139],\n",
       "       [198, 176, 152],\n",
       "       [196, 173, 142],\n",
       "       [189, 163, 130],\n",
       "       [192, 163, 131],\n",
       "       [184, 153, 122],\n",
       "       [186, 157, 125],\n",
       "       [184, 157, 128],\n",
       "       [188, 161, 134],\n",
       "       [191, 163, 139],\n",
       "       [183, 157, 134],\n",
       "       [187, 160, 139],\n",
       "       [186, 161, 139],\n",
       "       [180, 150, 126],\n",
       "       [184, 157, 130],\n",
       "       [167, 136, 108],\n",
       "       [177, 145, 120],\n",
       "       [179, 144, 122],\n",
       "       [174, 142, 117],\n",
       "       [194, 172, 149],\n",
       "       [195, 174, 153],\n",
       "       [197, 176, 157],\n",
       "       [193, 175, 153],\n",
       "       [199, 178, 157],\n",
       "       [196, 176, 151],\n",
       "       [202, 182, 157],\n",
       "       [197, 178, 146],\n",
       "       [203, 184, 154],\n",
       "       [196, 176, 151],\n",
       "       [192, 172, 147],\n",
       "       [204, 183, 162],\n",
       "       [195, 171, 145],\n",
       "       [187, 161, 128],\n",
       "       [193, 164, 132],\n",
       "       [198, 171, 141],\n",
       "       [186, 160, 125],\n",
       "       [185, 156, 124],\n",
       "       [199, 178, 151],\n",
       "       [210, 192, 170],\n",
       "       [202, 182, 157],\n",
       "       [198, 178, 154],\n",
       "       [199, 177, 153],\n",
       "       [203, 181, 158],\n",
       "       [203, 181, 158],\n",
       "       [218, 197, 176],\n",
       "       [190, 163, 136],\n",
       "       [195, 164, 135]], dtype=uint8)"
      ]
     },
     "execution_count": 6,
     "metadata": {},
     "output_type": "execute_result"
    }
   ],
   "source": [
    "#checking if the images are loaded\n",
    "Total_data[0][0][0]"
   ]
  },
  {
   "cell_type": "code",
   "execution_count": 7,
   "metadata": {},
   "outputs": [],
   "source": [
    "#Converting the list into dataframe for preprocessing and labelling\n",
    "ImageDF = pd.DataFrame(Total_data)"
   ]
  },
  {
   "cell_type": "code",
   "execution_count": 8,
   "metadata": {},
   "outputs": [
    {
     "data": {
      "text/html": [
       "<div>\n",
       "<style scoped>\n",
       "    .dataframe tbody tr th:only-of-type {\n",
       "        vertical-align: middle;\n",
       "    }\n",
       "\n",
       "    .dataframe tbody tr th {\n",
       "        vertical-align: top;\n",
       "    }\n",
       "\n",
       "    .dataframe thead th {\n",
       "        text-align: right;\n",
       "    }\n",
       "</style>\n",
       "<table border=\"1\" class=\"dataframe\">\n",
       "  <thead>\n",
       "    <tr style=\"text-align: right;\">\n",
       "      <th></th>\n",
       "      <th>0</th>\n",
       "      <th>1</th>\n",
       "    </tr>\n",
       "  </thead>\n",
       "  <tbody>\n",
       "    <tr>\n",
       "      <td>0</td>\n",
       "      <td>[[[161, 108, 56], [160, 105, 49], [161, 106, 4...</td>\n",
       "      <td>Black_Solid_8</td>\n",
       "    </tr>\n",
       "    <tr>\n",
       "      <td>1</td>\n",
       "      <td>[[[151, 99, 49], [158, 109, 53], [162, 113, 57...</td>\n",
       "      <td>Black_Solid_8</td>\n",
       "    </tr>\n",
       "  </tbody>\n",
       "</table>\n",
       "</div>"
      ],
      "text/plain": [
       "                                                   0              1\n",
       "0  [[[161, 108, 56], [160, 105, 49], [161, 106, 4...  Black_Solid_8\n",
       "1  [[[151, 99, 49], [158, 109, 53], [162, 113, 57...  Black_Solid_8"
      ]
     },
     "execution_count": 8,
     "metadata": {},
     "output_type": "execute_result"
    }
   ],
   "source": [
    "#current labels specify as color,type and number on the ball\n",
    "ImageDF.head(2)"
   ]
  },
  {
   "cell_type": "markdown",
   "metadata": {},
   "source": [
    "**Pre-processing**"
   ]
  },
  {
   "cell_type": "code",
   "execution_count": 9,
   "metadata": {},
   "outputs": [],
   "source": [
    "ImageDF=ImageDF.rename(columns={0: 'Images',1:'Labels'})"
   ]
  },
  {
   "cell_type": "code",
   "execution_count": 10,
   "metadata": {},
   "outputs": [
    {
     "data": {
      "text/plain": [
       "(2275, 2)"
      ]
     },
     "execution_count": 10,
     "metadata": {},
     "output_type": "execute_result"
    }
   ],
   "source": [
    "#Checking the shape of the dataframe and keeping a copy if needs a re-run\n",
    "ImageDF1=ImageDF.copy()\n",
    "ImageDF1.shape"
   ]
  },
  {
   "cell_type": "markdown",
   "metadata": {},
   "source": [
    "We have around 2300 images in our dataset"
   ]
  },
  {
   "cell_type": "code",
   "execution_count": 11,
   "metadata": {},
   "outputs": [
    {
     "data": {
      "text/plain": [
       "array(['Black_Solid_8', 'Blue_Solid_2', 'Blue_Stripe_12', 'Brown_Solid_7',\n",
       "       'Brown_Stripe_15', 'Green_Solid_6', 'Green_Stripe_14',\n",
       "       'Orange_Solid_5', 'Orange_Stripe_13', 'Purple_Solid_4',\n",
       "       'Red_Solid_3', 'Red_Stripe_11', 'White_Cue', 'Yellow_Solid_1',\n",
       "       'Yellow_Stripe_9'], dtype=object)"
      ]
     },
     "execution_count": 11,
     "metadata": {},
     "output_type": "execute_result"
    }
   ],
   "source": [
    "#Labels to classify for this model\n",
    "ImageDF1['Labels'].unique()"
   ]
  },
  {
   "cell_type": "code",
   "execution_count": 12,
   "metadata": {},
   "outputs": [
    {
     "data": {
      "text/html": [
       "<div>\n",
       "<style scoped>\n",
       "    .dataframe tbody tr th:only-of-type {\n",
       "        vertical-align: middle;\n",
       "    }\n",
       "\n",
       "    .dataframe tbody tr th {\n",
       "        vertical-align: top;\n",
       "    }\n",
       "\n",
       "    .dataframe thead th {\n",
       "        text-align: right;\n",
       "    }\n",
       "</style>\n",
       "<table border=\"1\" class=\"dataframe\">\n",
       "  <thead>\n",
       "    <tr style=\"text-align: right;\">\n",
       "      <th></th>\n",
       "      <th>Images</th>\n",
       "      <th>Labels</th>\n",
       "      <th>Color</th>\n",
       "      <th>Type</th>\n",
       "      <th>Number</th>\n",
       "    </tr>\n",
       "  </thead>\n",
       "  <tbody>\n",
       "    <tr>\n",
       "      <td>0</td>\n",
       "      <td>[[[161, 108, 56], [160, 105, 49], [161, 106, 4...</td>\n",
       "      <td>Black_Solid_8</td>\n",
       "      <td>Black</td>\n",
       "      <td>Solid</td>\n",
       "      <td>8</td>\n",
       "    </tr>\n",
       "    <tr>\n",
       "      <td>1</td>\n",
       "      <td>[[[151, 99, 49], [158, 109, 53], [162, 113, 57...</td>\n",
       "      <td>Black_Solid_8</td>\n",
       "      <td>Black</td>\n",
       "      <td>Solid</td>\n",
       "      <td>8</td>\n",
       "    </tr>\n",
       "    <tr>\n",
       "      <td>2</td>\n",
       "      <td>[[[167, 118, 42], [165, 117, 51], [161, 114, 4...</td>\n",
       "      <td>Black_Solid_8</td>\n",
       "      <td>Black</td>\n",
       "      <td>Solid</td>\n",
       "      <td>8</td>\n",
       "    </tr>\n",
       "  </tbody>\n",
       "</table>\n",
       "</div>"
      ],
      "text/plain": [
       "                                              Images         Labels  Color  \\\n",
       "0  [[[161, 108, 56], [160, 105, 49], [161, 106, 4...  Black_Solid_8  Black   \n",
       "1  [[[151, 99, 49], [158, 109, 53], [162, 113, 57...  Black_Solid_8  Black   \n",
       "2  [[[167, 118, 42], [165, 117, 51], [161, 114, 4...  Black_Solid_8  Black   \n",
       "\n",
       "    Type Number  \n",
       "0  Solid      8  \n",
       "1  Solid      8  \n",
       "2  Solid      8  "
      ]
     },
     "execution_count": 12,
     "metadata": {},
     "output_type": "execute_result"
    }
   ],
   "source": [
    "#Imagedf.value_counts\n",
    "ImageDF1[['Color','Type','Number']] = ImageDF1.Labels.str.split(\"_\",expand=True)\n",
    "ImageDF1.head(3)"
   ]
  },
  {
   "cell_type": "code",
   "execution_count": 13,
   "metadata": {},
   "outputs": [
    {
     "data": {
      "text/html": [
       "<div>\n",
       "<style scoped>\n",
       "    .dataframe tbody tr th:only-of-type {\n",
       "        vertical-align: middle;\n",
       "    }\n",
       "\n",
       "    .dataframe tbody tr th {\n",
       "        vertical-align: top;\n",
       "    }\n",
       "\n",
       "    .dataframe thead th {\n",
       "        text-align: right;\n",
       "    }\n",
       "</style>\n",
       "<table border=\"1\" class=\"dataframe\">\n",
       "  <thead>\n",
       "    <tr style=\"text-align: right;\">\n",
       "      <th></th>\n",
       "      <th>Images</th>\n",
       "      <th>Color</th>\n",
       "      <th>Type</th>\n",
       "    </tr>\n",
       "  </thead>\n",
       "  <tbody>\n",
       "    <tr>\n",
       "      <td>0</td>\n",
       "      <td>[[[161, 108, 56], [160, 105, 49], [161, 106, 4...</td>\n",
       "      <td>Black</td>\n",
       "      <td>Solid</td>\n",
       "    </tr>\n",
       "    <tr>\n",
       "      <td>1</td>\n",
       "      <td>[[[151, 99, 49], [158, 109, 53], [162, 113, 57...</td>\n",
       "      <td>Black</td>\n",
       "      <td>Solid</td>\n",
       "    </tr>\n",
       "    <tr>\n",
       "      <td>2</td>\n",
       "      <td>[[[167, 118, 42], [165, 117, 51], [161, 114, 4...</td>\n",
       "      <td>Black</td>\n",
       "      <td>Solid</td>\n",
       "    </tr>\n",
       "  </tbody>\n",
       "</table>\n",
       "</div>"
      ],
      "text/plain": [
       "                                              Images  Color   Type\n",
       "0  [[[161, 108, 56], [160, 105, 49], [161, 106, 4...  Black  Solid\n",
       "1  [[[151, 99, 49], [158, 109, 53], [162, 113, 57...  Black  Solid\n",
       "2  [[[167, 118, 42], [165, 117, 51], [161, 114, 4...  Black  Solid"
      ]
     },
     "execution_count": 13,
     "metadata": {},
     "output_type": "execute_result"
    }
   ],
   "source": [
    "#Considering only the color and type of the ball\n",
    "ImageDF_Color = ImageDF1[['Images','Color','Type']]\n",
    "ImageDF_Color.head(3)"
   ]
  },
  {
   "cell_type": "code",
   "execution_count": 14,
   "metadata": {},
   "outputs": [
    {
     "name": "stderr",
     "output_type": "stream",
     "text": [
      "C:\\Users\\nagar\\AppData\\Local\\Continuum\\anaconda3\\lib\\site-packages\\ipykernel_launcher.py:1: SettingWithCopyWarning: \n",
      "A value is trying to be set on a copy of a slice from a DataFrame.\n",
      "Try using .loc[row_indexer,col_indexer] = value instead\n",
      "\n",
      "See the caveats in the documentation: http://pandas.pydata.org/pandas-docs/stable/user_guide/indexing.html#returning-a-view-versus-a-copy\n",
      "  \"\"\"Entry point for launching an IPython kernel.\n"
     ]
    }
   ],
   "source": [
    "ImageDF_Color['ColorType']=ImageDF_Color['Color']+ImageDF_Color['Type']"
   ]
  },
  {
   "cell_type": "markdown",
   "metadata": {},
   "source": [
    "#--------------------------------------------------------------------------------------#"
   ]
  },
  {
   "cell_type": "markdown",
   "metadata": {},
   "source": [
    "#Second Level Classification --> Identifying the pool ball with color and type"
   ]
  },
  {
   "cell_type": "code",
   "execution_count": 15,
   "metadata": {},
   "outputs": [],
   "source": [
    "ImageDF_Final = ImageDF_Color.drop(columns=['Color','Type'])"
   ]
  },
  {
   "cell_type": "code",
   "execution_count": 16,
   "metadata": {},
   "outputs": [
    {
     "data": {
      "text/html": [
       "<div>\n",
       "<style scoped>\n",
       "    .dataframe tbody tr th:only-of-type {\n",
       "        vertical-align: middle;\n",
       "    }\n",
       "\n",
       "    .dataframe tbody tr th {\n",
       "        vertical-align: top;\n",
       "    }\n",
       "\n",
       "    .dataframe thead th {\n",
       "        text-align: right;\n",
       "    }\n",
       "</style>\n",
       "<table border=\"1\" class=\"dataframe\">\n",
       "  <thead>\n",
       "    <tr style=\"text-align: right;\">\n",
       "      <th></th>\n",
       "      <th>Images</th>\n",
       "      <th>ColorType</th>\n",
       "    </tr>\n",
       "  </thead>\n",
       "  <tbody>\n",
       "    <tr>\n",
       "      <td>0</td>\n",
       "      <td>[[[161, 108, 56], [160, 105, 49], [161, 106, 4...</td>\n",
       "      <td>BlackSolid</td>\n",
       "    </tr>\n",
       "    <tr>\n",
       "      <td>1</td>\n",
       "      <td>[[[151, 99, 49], [158, 109, 53], [162, 113, 57...</td>\n",
       "      <td>BlackSolid</td>\n",
       "    </tr>\n",
       "  </tbody>\n",
       "</table>\n",
       "</div>"
      ],
      "text/plain": [
       "                                              Images   ColorType\n",
       "0  [[[161, 108, 56], [160, 105, 49], [161, 106, 4...  BlackSolid\n",
       "1  [[[151, 99, 49], [158, 109, 53], [162, 113, 57...  BlackSolid"
      ]
     },
     "execution_count": 16,
     "metadata": {},
     "output_type": "execute_result"
    }
   ],
   "source": [
    "#Final dataframe for modelling\n",
    "ImageDF_Final.head(2)"
   ]
  },
  {
   "cell_type": "code",
   "execution_count": 17,
   "metadata": {},
   "outputs": [
    {
     "name": "stdout",
     "output_type": "stream",
     "text": [
      "StratifiedShuffleSplit(n_splits=5, random_state=42, test_size=0.2,\n",
      "            train_size=None)\n",
      "RedSolid        0.134505\n",
      "GreenStripe     0.095824\n",
      "WhiteCue        0.083956\n",
      "GreenSolid      0.079121\n",
      "BrownStripe     0.070769\n",
      "BrownSolid      0.065495\n",
      "YellowSolid     0.064176\n",
      "BlackSolid      0.060220\n",
      "RedStripe       0.058022\n",
      "YellowStripe    0.051868\n",
      "BlueSolid       0.050110\n",
      "OrangeSolid     0.048352\n",
      "BlueStripe      0.047912\n",
      "OrangeStripe    0.045714\n",
      "PurpleSolid     0.043956\n",
      "Name: ColorType, dtype: float64\n",
      "----------------------------------------------------\n",
      "RedSolid        0.134615\n",
      "GreenStripe     0.095604\n",
      "WhiteCue        0.084066\n",
      "GreenSolid      0.079121\n",
      "BrownStripe     0.070879\n",
      "BrownSolid      0.065385\n",
      "YellowSolid     0.064286\n",
      "BlackSolid      0.060440\n",
      "RedStripe       0.058242\n",
      "YellowStripe    0.051648\n",
      "BlueSolid       0.050000\n",
      "OrangeSolid     0.048352\n",
      "BlueStripe      0.047802\n",
      "OrangeStripe    0.045604\n",
      "PurpleSolid     0.043956\n",
      "Name: ColorType, dtype: float64\n",
      "----------------------------------------------------\n",
      "RedSolid        0.134066\n",
      "GreenStripe     0.096703\n",
      "WhiteCue        0.083516\n",
      "GreenSolid      0.079121\n",
      "BrownStripe     0.070330\n",
      "BrownSolid      0.065934\n",
      "YellowSolid     0.063736\n",
      "BlackSolid      0.059341\n",
      "RedStripe       0.057143\n",
      "YellowStripe    0.052747\n",
      "BlueSolid       0.050549\n",
      "BlueStripe      0.048352\n",
      "OrangeSolid     0.048352\n",
      "OrangeStripe    0.046154\n",
      "PurpleSolid     0.043956\n",
      "Name: ColorType, dtype: float64\n"
     ]
    }
   ],
   "source": [
    "#splitting train and test with equal distribution\n",
    "split = StratifiedShuffleSplit(n_splits=5,test_size = 0.2,random_state = 42)\n",
    "print(split)\n",
    "for train_index,test_index in split.split(ImageDF_Final,ImageDF_Final[\"ColorType\"]):\n",
    "    train_set = ImageDF_Final.iloc[train_index]\n",
    "    test_set = ImageDF_Final.iloc[test_index]\n",
    "\n",
    "#Checking how the split is\n",
    "print(ImageDF_Final[\"ColorType\"].value_counts()/len(ImageDF_Final))\n",
    "print(\"----------------------------------------------------\")\n",
    "print(train_set[\"ColorType\"].value_counts()/len(train_set))\n",
    "print(\"----------------------------------------------------\")\n",
    "print(test_set[\"ColorType\"].value_counts()/len(test_set))\n"
   ]
  },
  {
   "cell_type": "code",
   "execution_count": 18,
   "metadata": {},
   "outputs": [
    {
     "name": "stdout",
     "output_type": "stream",
     "text": [
      "(1456,) (364,) (1456,) (364,)\n"
     ]
    }
   ],
   "source": [
    "#Validation set\n",
    "from sklearn.model_selection import train_test_split\n",
    "X_train,X_test,y_train,y_test = train_test_split(train_set[\"Images\"],train_set[\"ColorType\"],test_size=0.2,random_state=42)\n",
    "print(X_train.shape,X_test.shape,y_train.shape,y_test.shape)"
   ]
  },
  {
   "cell_type": "code",
   "execution_count": 19,
   "metadata": {},
   "outputs": [],
   "source": [
    "#Transforming the labels to factor variables\n",
    "from sklearn.preprocessing import LabelEncoder\n",
    "encoder = LabelEncoder()\n",
    "y_train_encoded= encoder.fit_transform(y_train)\n",
    "y_test_encoded = encoder.transform(y_test)"
   ]
  },
  {
   "cell_type": "code",
   "execution_count": 20,
   "metadata": {},
   "outputs": [],
   "source": [
    "y_train_new_array = np.array(y_train_encoded)\n",
    "y_test_new_array=np.array(y_test_encoded)"
   ]
  },
  {
   "cell_type": "code",
   "execution_count": 21,
   "metadata": {},
   "outputs": [],
   "source": [
    "#Convert class vectors to binary class matrices.\n",
    "y_train_cat = keras.utils.to_categorical(y_train_new_array, num_classes=15)\n",
    "y_test_cat = keras.utils.to_categorical(y_test_new_array, num_classes=15)"
   ]
  },
  {
   "cell_type": "code",
   "execution_count": 22,
   "metadata": {},
   "outputs": [
    {
     "name": "stdout",
     "output_type": "stream",
     "text": [
      "(1456, 15) (364, 15)\n"
     ]
    }
   ],
   "source": [
    "#checking the shapes of y train and y test\n",
    "print(y_train_cat.shape,y_test_cat.shape)"
   ]
  },
  {
   "cell_type": "markdown",
   "metadata": {},
   "source": [
    "Converting the y variables to arrays for modelling"
   ]
  },
  {
   "cell_type": "code",
   "execution_count": 23,
   "metadata": {},
   "outputs": [],
   "source": [
    "y_train_new_array=np.array(y_train_cat)"
   ]
  },
  {
   "cell_type": "code",
   "execution_count": 24,
   "metadata": {},
   "outputs": [],
   "source": [
    "y_test_new_array=np.array(y_test_cat)"
   ]
  },
  {
   "cell_type": "markdown",
   "metadata": {},
   "source": [
    "Converting 3d shapes to 4D tensors for keras model"
   ]
  },
  {
   "cell_type": "code",
   "execution_count": 25,
   "metadata": {},
   "outputs": [],
   "source": [
    "#converting each 3d image in a list into 4D tensor array as we need for input to CNN\n",
    "X_train_new =[0] * len(X_train) \n",
    "for i in range(0,len(X_train)):\n",
    "    X_train_new[i] = np.reshape((X_train.iloc[i]),(120,160,3))\n",
    "\n",
    "X_train_array = np.asarray(X_train_new)\n",
    "\n",
    "X_test_new=[0] * len(X_test)\n",
    "for i in range(0,len(X_test)):\n",
    "    X_test_new[i] = np.reshape((X_test.iloc[i]),(120,160,3))\n",
    "X_test_array = np.asarray(X_test_new)\n",
    "\n",
    "X_train_array = X_train_array.astype('float32')\n",
    "X_test_array = X_test_array.astype('float32')\n",
    "X_train_array /= 255\n",
    "X_test_array /= 255"
   ]
  },
  {
   "cell_type": "code",
   "execution_count": 26,
   "metadata": {},
   "outputs": [
    {
     "data": {
      "text/plain": [
       "(1456, 120, 160, 3)"
      ]
     },
     "execution_count": 26,
     "metadata": {},
     "output_type": "execute_result"
    }
   ],
   "source": [
    "X_train_array.shape"
   ]
  },
  {
   "cell_type": "markdown",
   "metadata": {},
   "source": [
    "Why we can't use Fully connected Neural network?\n",
    "more number of weights which would eventually overfit model\n",
    "Cnn's take the nearest values to explore structure in the image i.e, less number of weights  "
   ]
  },
  {
   "cell_type": "markdown",
   "metadata": {},
   "source": [
    "**Modelling**"
   ]
  },
  {
   "cell_type": "code",
   "execution_count": 31,
   "metadata": {},
   "outputs": [],
   "source": [
    "#Architecture for the CNN\n",
    "\n",
    "model = Sequential()\n",
    "#1st layer\n",
    "model.add(Conv2D(32, (3, 3), padding='same',input_shape=X_train_array.shape[1:]))\n",
    "model.add(Activation('relu'))\n",
    "model.add(Conv2D(32, (3, 3)))\n",
    "model.add(Activation('relu'))\n",
    "model.add(GaussianNoise(0.1))\n",
    "model.add(MaxPooling2D(pool_size=(2, 2)))\n",
    "model.add(Dropout(0.25))\n",
    "#3rd dense layer\n",
    "model.add(Conv2D(64, (3, 3), padding='same'))\n",
    "model.add(Activation('relu'))\n",
    "model.add(GaussianNoise(0.1))\n",
    "model.add(Conv2D(64, (3, 3)))\n",
    "model.add(Activation('relu'))\n",
    "model.add(MaxPooling2D(pool_size=(2, 2)))\n",
    "model.add(Dropout(0.25))\n",
    "#5th dense layer\n",
    "model.add(Conv2D(128, (3, 3), padding='same'))\n",
    "model.add(Activation('relu'))\n",
    "model.add(Conv2D(128, (3, 3)))\n",
    "model.add(Activation('relu'))\n",
    "model.add(GaussianNoise(0.1))\n",
    "model.add(MaxPooling2D(pool_size=(2, 2)))\n",
    "\n",
    "#Flattening\n",
    "model.add(Flatten())\n",
    "model.add(Dense(512))\n",
    "model.add(Activation('relu'))\n",
    "model.add(Dense(15))\n",
    "model.add(Activation('softmax'))"
   ]
  },
  {
   "cell_type": "code",
   "execution_count": 32,
   "metadata": {},
   "outputs": [
    {
     "name": "stdout",
     "output_type": "stream",
     "text": [
      "Model: \"sequential_2\"\n",
      "_________________________________________________________________\n",
      "Layer (type)                 Output Shape              Param #   \n",
      "=================================================================\n",
      "conv2d_7 (Conv2D)            (None, 120, 160, 32)      896       \n",
      "_________________________________________________________________\n",
      "activation_9 (Activation)    (None, 120, 160, 32)      0         \n",
      "_________________________________________________________________\n",
      "conv2d_8 (Conv2D)            (None, 118, 158, 32)      9248      \n",
      "_________________________________________________________________\n",
      "activation_10 (Activation)   (None, 118, 158, 32)      0         \n",
      "_________________________________________________________________\n",
      "gaussian_noise_6 (GaussianNo (None, 118, 158, 32)      0         \n",
      "_________________________________________________________________\n",
      "max_pooling2d_4 (MaxPooling2 (None, 59, 79, 32)        0         \n",
      "_________________________________________________________________\n",
      "dropout_3 (Dropout)          (None, 59, 79, 32)        0         \n",
      "_________________________________________________________________\n",
      "conv2d_9 (Conv2D)            (None, 59, 79, 64)        18496     \n",
      "_________________________________________________________________\n",
      "activation_11 (Activation)   (None, 59, 79, 64)        0         \n",
      "_________________________________________________________________\n",
      "gaussian_noise_7 (GaussianNo (None, 59, 79, 64)        0         \n",
      "_________________________________________________________________\n",
      "conv2d_10 (Conv2D)           (None, 57, 77, 64)        36928     \n",
      "_________________________________________________________________\n",
      "activation_12 (Activation)   (None, 57, 77, 64)        0         \n",
      "_________________________________________________________________\n",
      "max_pooling2d_5 (MaxPooling2 (None, 28, 38, 64)        0         \n",
      "_________________________________________________________________\n",
      "dropout_4 (Dropout)          (None, 28, 38, 64)        0         \n",
      "_________________________________________________________________\n",
      "conv2d_11 (Conv2D)           (None, 28, 38, 128)       73856     \n",
      "_________________________________________________________________\n",
      "activation_13 (Activation)   (None, 28, 38, 128)       0         \n",
      "_________________________________________________________________\n",
      "conv2d_12 (Conv2D)           (None, 26, 36, 128)       147584    \n",
      "_________________________________________________________________\n",
      "activation_14 (Activation)   (None, 26, 36, 128)       0         \n",
      "_________________________________________________________________\n",
      "gaussian_noise_8 (GaussianNo (None, 26, 36, 128)       0         \n",
      "_________________________________________________________________\n",
      "max_pooling2d_6 (MaxPooling2 (None, 13, 18, 128)       0         \n",
      "_________________________________________________________________\n",
      "flatten_2 (Flatten)          (None, 29952)             0         \n",
      "_________________________________________________________________\n",
      "dense_3 (Dense)              (None, 512)               15335936  \n",
      "_________________________________________________________________\n",
      "activation_15 (Activation)   (None, 512)               0         \n",
      "_________________________________________________________________\n",
      "dense_4 (Dense)              (None, 15)                7695      \n",
      "_________________________________________________________________\n",
      "activation_16 (Activation)   (None, 15)                0         \n",
      "=================================================================\n",
      "Total params: 15,630,639\n",
      "Trainable params: 15,630,639\n",
      "Non-trainable params: 0\n",
      "_________________________________________________________________\n"
     ]
    }
   ],
   "source": [
    "model.summary()"
   ]
  },
  {
   "cell_type": "code",
   "execution_count": 33,
   "metadata": {},
   "outputs": [],
   "source": [
    "# Let's train the model using RMSprop\n",
    "model.compile(loss='categorical_crossentropy',optimizer=\"sgd\",metrics=['accuracy'])\n"
   ]
  },
  {
   "cell_type": "code",
   "execution_count": 34,
   "metadata": {},
   "outputs": [
    {
     "name": "stdout",
     "output_type": "stream",
     "text": [
      "Train on 1456 samples, validate on 364 samples\n",
      "Epoch 1/15\n",
      "1456/1456 [==============================] - 192s 132ms/step - loss: 2.6995 - accuracy: 0.1058 - val_loss: 2.6986 - val_accuracy: 0.1484\n",
      "Epoch 2/15\n",
      "1456/1456 [==============================] - 201s 138ms/step - loss: 2.6673 - accuracy: 0.1387 - val_loss: 2.6968 - val_accuracy: 0.1841\n",
      "Epoch 3/15\n",
      "1456/1456 [==============================] - 192s 132ms/step - loss: 2.6571 - accuracy: 0.1387 - val_loss: 2.6870 - val_accuracy: 0.1978\n",
      "Epoch 4/15\n",
      "1456/1456 [==============================] - 191s 131ms/step - loss: 2.6413 - accuracy: 0.1415 - val_loss: 2.6615 - val_accuracy: 0.1758\n",
      "Epoch 5/15\n",
      "1456/1456 [==============================] - 191s 131ms/step - loss: 2.5233 - accuracy: 0.2033 - val_loss: 2.3935 - val_accuracy: 0.2692\n",
      "Epoch 6/15\n",
      "1456/1456 [==============================] - 206s 142ms/step - loss: 2.0740 - accuracy: 0.3393 - val_loss: 1.7505 - val_accuracy: 0.4313\n",
      "Epoch 7/15\n",
      "1456/1456 [==============================] - 194s 133ms/step - loss: 1.8215 - accuracy: 0.4107 - val_loss: 1.8873 - val_accuracy: 0.5192\n",
      "Epoch 8/15\n",
      "1456/1456 [==============================] - 196s 134ms/step - loss: 1.5531 - accuracy: 0.5000 - val_loss: 1.9687 - val_accuracy: 0.4011\n",
      "Epoch 9/15\n",
      "1456/1456 [==============================] - 188s 129ms/step - loss: 1.1308 - accuracy: 0.6518 - val_loss: 2.1119 - val_accuracy: 0.3901\n",
      "Epoch 10/15\n",
      "1456/1456 [==============================] - 188s 129ms/step - loss: 0.8941 - accuracy: 0.7074 - val_loss: 2.0545 - val_accuracy: 0.5110\n",
      "Epoch 11/15\n",
      "1456/1456 [==============================] - 191s 131ms/step - loss: 1.1392 - accuracy: 0.6490 - val_loss: 1.1769 - val_accuracy: 0.6374\n",
      "Epoch 12/15\n",
      "1456/1456 [==============================] - 201s 138ms/step - loss: 0.6831 - accuracy: 0.7658 - val_loss: 1.3360 - val_accuracy: 0.6291\n",
      "Epoch 13/15\n",
      "1456/1456 [==============================] - 201s 138ms/step - loss: 0.5226 - accuracy: 0.8214 - val_loss: 0.9055 - val_accuracy: 0.7253\n",
      "Epoch 14/15\n",
      "1456/1456 [==============================] - 205s 141ms/step - loss: 0.5928 - accuracy: 0.8029 - val_loss: 0.5498 - val_accuracy: 0.8297\n",
      "Epoch 15/15\n",
      "1456/1456 [==============================] - 186s 128ms/step - loss: 0.3241 - accuracy: 0.8901 - val_loss: 0.8605 - val_accuracy: 0.7335\n"
     ]
    }
   ],
   "source": [
    "# #fitting model\n",
    "history= model.fit(X_train_array, y_train_new_array,batch_size=32,epochs=15,validation_data=(X_test_array, y_test_new_array),shuffle=True)"
   ]
  },
  {
   "cell_type": "code",
   "execution_count": 35,
   "metadata": {},
   "outputs": [
    {
     "data": {
      "image/png": "[encoded data removed]",
      "text/plain": [
       "<Figure size 432x288 with 1 Axes>"
      ]
     },
     "metadata": {
      "needs_background": "light"
     },
     "output_type": "display_data"
    },
    {
     "data": {
      "image/png": "[encoded data removed]",
      "text/plain": [
       "<Figure size 432x288 with 1 Axes>"
      ]
     },
     "metadata": {
      "needs_background": "light"
     },
     "output_type": "display_data"
    }
   ],
   "source": [
    "#Assessing the learning curves\n",
    "plt.plot(history.history['accuracy'])\n",
    "plt.plot(history.history['val_accuracy'])\n",
    "plt.title('Model accuracy')\n",
    "plt.ylabel('Accuracy')\n",
    "plt.xlabel('Epoch')\n",
    "plt.legend(['Train', 'Test'], loc='upper left')\n",
    "plt.show()\n",
    "\n",
    "# Plot training & validation loss values\n",
    "plt.plot(history.history['loss'])\n",
    "plt.plot(history.history['val_loss'])\n",
    "plt.title('Model loss')\n",
    "plt.ylabel('Loss')\n",
    "plt.xlabel('Epoch')\n",
    "plt.legend(['Train', 'Test'], loc='upper left')\n",
    "plt.show()"
   ]
  },
  {
   "cell_type": "markdown",
   "metadata": {},
   "source": [
    "From the above analysis, our model was performed well on the validation set with 93% accuracy and the learning curves are showing that there is very less chance of overfitting as the training and testing curves are much closer to each other."
   ]
  },
  {
   "cell_type": "markdown",
   "metadata": {},
   "source": [
    "Testing on the holdout set"
   ]
  },
  {
   "cell_type": "code",
   "execution_count": 36,
   "metadata": {},
   "outputs": [],
   "source": [
    "X_test=test_set[\"Images\"]\n",
    "y_test=test_set[\"ColorType\"]"
   ]
  },
  {
   "cell_type": "code",
   "execution_count": 37,
   "metadata": {},
   "outputs": [],
   "source": [
    "#Transforming the test set as we transformed the trainset and trained on it\n",
    "from sklearn.preprocessing import LabelEncoder\n",
    "y_test_encoded= encoder.transform(y_test)\n",
    "y_test_array=np.array(y_test_encoded)\n",
    "y_test_cat = keras.utils.to_categorical(y_test_array, num_classes=15)\n",
    "\n",
    "X_test_1=[0] * len(X_test)\n",
    "for i in range(0,len(X_test)):\n",
    "    X_test_1[i] = np.reshape((X_test.iloc[i]),(120,160,3))\n",
    "X_test_1 = np.asarray(X_test_1)\n",
    "\n",
    "# X_test_1 = X_test_1.astype('float32')\n",
    "X_test_1 = X_test_1/255"
   ]
  },
  {
   "cell_type": "code",
   "execution_count": 38,
   "metadata": {},
   "outputs": [
    {
     "name": "stdout",
     "output_type": "stream",
     "text": [
      "455/455 [==============================] - 21s 45ms/step\n",
      "Test loss: 0.8758491705079655\n",
      "Test accuracy: 0.8021978139877319\n"
     ]
    }
   ],
   "source": [
    "#Checking the accuracy of the model on test set\n",
    "scores = model.evaluate(X_test_1, y_test_cat, verbose=True)\n",
    "print('Test loss:', scores[0])\n",
    "print('Test accuracy:', scores[1])"
   ]
  },
  {
   "cell_type": "code",
   "execution_count": 41,
   "metadata": {},
   "outputs": [],
   "source": [
    "predictions = model.predict_classes(X_test_1)"
   ]
  },
  {
   "cell_type": "code",
   "execution_count": 47,
   "metadata": {},
   "outputs": [
    {
     "data": {
      "text/plain": [
       "array([[23,  4,  0,  0,  0,  0,  0,  0,  0,  0,  0,  0,  0,  0,  0],\n",
       "       [ 0, 23,  0,  0,  0,  0,  0,  0,  0,  0,  0,  0,  0,  0,  0],\n",
       "       [ 0,  1, 20,  0,  1,  0,  0,  0,  0,  0,  0,  0,  0,  0,  0],\n",
       "       [ 0,  0,  0, 30,  0,  0,  0,  0,  0,  0,  0,  0,  0,  0,  0],\n",
       "       [ 0,  0,  0,  0, 32,  0,  0,  0,  0,  0,  0,  0,  0,  0,  0],\n",
       "       [ 0,  3,  0,  0,  0, 32,  0,  0,  0,  1,  0,  0,  0,  0,  0],\n",
       "       [ 0,  6,  0,  0, 11,  0, 22,  0,  0,  0,  0,  1,  0,  0,  4],\n",
       "       [ 0,  2,  0,  0,  0,  0,  0, 19,  0,  0,  0,  1,  0,  0,  0],\n",
       "       [ 0,  1,  0,  0,  0,  0,  0,  0, 20,  0,  0,  0,  0,  0,  0],\n",
       "       [ 0,  0,  0,  0,  1,  3,  0,  1,  0, 15,  0,  0,  0,  0,  0],\n",
       "       [ 0,  0,  0,  0,  0,  0,  0,  0,  0,  0, 61,  0,  0,  0,  0],\n",
       "       [ 0,  6,  0,  0,  5,  0,  2,  0,  0,  0,  0, 13,  0,  0,  0],\n",
       "       [ 0,  0,  0,  0,  0,  0,  0,  0,  0,  0,  0,  0, 38,  0,  0],\n",
       "       [ 0,  3,  0,  0,  5,  2,  5,  0,  6,  0,  0,  3,  0,  4,  1],\n",
       "       [ 0,  2,  2,  0,  6,  1,  0,  0,  0,  0,  0,  0,  0,  0, 13]],\n",
       "      dtype=int64)"
      ]
     },
     "execution_count": 47,
     "metadata": {},
     "output_type": "execute_result"
    }
   ],
   "source": [
    "from sklearn.metrics import confusion_matrix\n",
    "confusion_matrix(y_test_array, predictions)"
   ]
  },
  {
   "cell_type": "code",
   "execution_count": 52,
   "metadata": {},
   "outputs": [
    {
     "name": "stdout",
     "output_type": "stream",
     "text": [
      "Precision score of 1st level classifier:0.80\n"
     ]
    }
   ],
   "source": [
    "#f1 score\n",
    "from sklearn.metrics import f1_score\n",
    "print('Precision score of 1st level classifier:%.2f'%f1_score(y_test_array, predictions,average=\"micro\"))"
   ]
  },
  {
   "cell_type": "markdown",
   "metadata": {},
   "source": [
    "An attempt to generalize the model by using Keras ImageDataGenerator"
   ]
  },
  {
   "cell_type": "code",
   "execution_count": 53,
   "metadata": {},
   "outputs": [],
   "source": [
    "from keras.preprocessing.image import ImageDataGenerator"
   ]
  },
  {
   "cell_type": "code",
   "execution_count": 54,
   "metadata": {},
   "outputs": [
    {
     "name": "stdout",
     "output_type": "stream",
     "text": [
      "Epoch 1/20\n",
      "46/46 [==============================] - 189s 4s/step - loss: 2.7873 - accuracy: 0.1600 - val_loss: 2.0611 - val_accuracy: 0.4286\n",
      "Epoch 2/20\n",
      "46/46 [==============================] - 366s 8s/step - loss: 2.2353 - accuracy: 0.2582 - val_loss: 1.8151 - val_accuracy: 0.4615\n",
      "Epoch 3/20\n",
      "46/46 [==============================] - 223s 5s/step - loss: 1.9427 - accuracy: 0.3455 - val_loss: 1.7135 - val_accuracy: 0.4368\n",
      "Epoch 4/20\n",
      "46/46 [==============================] - 193s 4s/step - loss: 1.8014 - accuracy: 0.3984 - val_loss: 1.5691 - val_accuracy: 0.5055\n",
      "Epoch 5/20\n",
      "46/46 [==============================] - 191s 4s/step - loss: 1.7563 - accuracy: 0.4176 - val_loss: 1.5325 - val_accuracy: 0.4973\n",
      "Epoch 6/20\n",
      "46/46 [==============================] - 191s 4s/step - loss: 1.6189 - accuracy: 0.4430 - val_loss: 1.5753 - val_accuracy: 0.5137\n",
      "Epoch 7/20\n",
      "46/46 [==============================] - 193s 4s/step - loss: 1.4679 - accuracy: 0.5055 - val_loss: 1.5264 - val_accuracy: 0.4643\n",
      "Epoch 8/20\n",
      "46/46 [==============================] - 191s 4s/step - loss: 1.4363 - accuracy: 0.5220 - val_loss: 1.4126 - val_accuracy: 0.4918\n",
      "Epoch 9/20\n",
      "46/46 [==============================] - 203s 4s/step - loss: 1.3102 - accuracy: 0.5797 - val_loss: 1.4210 - val_accuracy: 0.5275\n",
      "Epoch 10/20\n",
      "46/46 [==============================] - 191s 4s/step - loss: 1.2740 - accuracy: 0.5652 - val_loss: 1.0957 - val_accuracy: 0.6511\n",
      "Epoch 11/20\n",
      "46/46 [==============================] - 195s 4s/step - loss: 1.2452 - accuracy: 0.5831 - val_loss: 1.1005 - val_accuracy: 0.6319\n",
      "Epoch 12/20\n",
      "46/46 [==============================] - 195s 4s/step - loss: 1.1318 - accuracy: 0.6202 - val_loss: 1.0444 - val_accuracy: 0.6593\n",
      "Epoch 13/20\n",
      "46/46 [==============================] - 526s 11s/step - loss: 1.0873 - accuracy: 0.6271 - val_loss: 1.0873 - val_accuracy: 0.6071\n",
      "Epoch 14/20\n",
      "46/46 [==============================] - 191s 4s/step - loss: 1.0529 - accuracy: 0.6401 - val_loss: 1.1514 - val_accuracy: 0.5824\n",
      "Epoch 15/20\n",
      "46/46 [==============================] - 201s 4s/step - loss: 1.3368 - accuracy: 0.5913 - val_loss: 1.3695 - val_accuracy: 0.5302\n",
      "Epoch 16/20\n",
      "46/46 [==============================] - 210s 5s/step - loss: 1.0909 - accuracy: 0.6490 - val_loss: 1.4692 - val_accuracy: 0.5165\n",
      "Epoch 17/20\n",
      "46/46 [==============================] - 191s 4s/step - loss: 0.8999 - accuracy: 0.6848 - val_loss: 0.9658 - val_accuracy: 0.6209\n",
      "Epoch 18/20\n",
      "46/46 [==============================] - 189s 4s/step - loss: 0.9157 - accuracy: 0.6806 - val_loss: 1.0244 - val_accuracy: 0.6099\n",
      "Epoch 19/20\n",
      "46/46 [==============================] - 200s 4s/step - loss: 0.9418 - accuracy: 0.6786 - val_loss: 0.9617 - val_accuracy: 0.6236\n",
      "Epoch 20/20\n",
      "46/46 [==============================] - 195s 4s/step - loss: 0.8055 - accuracy: 0.7218 - val_loss: 1.3339 - val_accuracy: 0.5467\n"
     ]
    }
   ],
   "source": [
    "#Setting the best possible values in our runs by tweaking and keeping the best result\n",
    "datagen = ImageDataGenerator(\n",
    "        featurewise_center=False,  \n",
    "        samplewise_center=False,  \n",
    "        featurewise_std_normalization=False,  \n",
    "        samplewise_std_normalization=False, \n",
    "        zca_whitening=False,  # apply ZCA whitening\n",
    "        zca_epsilon=1e-06,  # epsilon for ZCA whitening\n",
    "        rotation_range=0,  # randomly rotate images in the range (degrees, 0 to 180)\n",
    "        width_shift_range=0.1,\n",
    "        height_shift_range=0.1,\n",
    "        shear_range=0.,  \n",
    "        zoom_range=0., \n",
    "        channel_shift_range=0.,  # set range for random channel shifts\n",
    "        # set mode for filling points outside the input boundaries\n",
    "        fill_mode='nearest',\n",
    "        cval=0.,  \n",
    "        horizontal_flip=True,  # randomly flip images\n",
    "        vertical_flip=True,  # randomly flip images\n",
    "        rescale=None,\n",
    "        preprocessing_function=None,\n",
    "        data_format=None,\n",
    "        validation_split=0.0)\n",
    "datagen.fit(X_train_array)\n",
    "history1=model.fit_generator(datagen.flow(X_train_array, y_train_new_array,batch_size=32),\n",
    "                        epochs=20,\n",
    "                        validation_data=(X_test_array, y_test_new_array),\n",
    "                        workers=4)"
   ]
  },
  {
   "cell_type": "code",
   "execution_count": 55,
   "metadata": {},
   "outputs": [
    {
     "data": {
      "image/png": "[encoded data removed]",
      "text/plain": [
       "<Figure size 432x288 with 1 Axes>"
      ]
     },
     "metadata": {
      "needs_background": "light"
     },
     "output_type": "display_data"
    },
    {
     "data": {
      "image/png": "[encoded data removed]",
      "text/plain": [
       "<Figure size 432x288 with 1 Axes>"
      ]
     },
     "metadata": {
      "needs_background": "light"
     },
     "output_type": "display_data"
    }
   ],
   "source": [
    "#Assessing the model\n",
    "plt.plot(history1.history['accuracy'])\n",
    "plt.plot(history1.history['val_accuracy'])\n",
    "plt.title('Model accuracy')\n",
    "plt.ylabel('Accuracy')\n",
    "plt.xlabel('Epoch')\n",
    "plt.legend(['Train', 'Test'], loc='upper left')\n",
    "plt.show()\n",
    "\n",
    "# Plot training & validation loss values\n",
    "plt.plot(history1.history['loss'])\n",
    "plt.plot(history1.history['val_loss'])\n",
    "plt.title('Model loss')\n",
    "plt.ylabel('Loss')\n",
    "plt.xlabel('Epoch')\n",
    "plt.legend(['Train', 'Test'], loc='upper left')\n",
    "plt.show()"
   ]
  },
  {
   "cell_type": "code",
   "execution_count": 56,
   "metadata": {},
   "outputs": [],
   "source": [
    "X_test=test_set[\"Images\"]\n",
    "y_test=test_set[\"ColorType\"]"
   ]
  },
  {
   "cell_type": "code",
   "execution_count": 60,
   "metadata": {},
   "outputs": [],
   "source": [
    "#Transforming the test set as we transformed the trainset and trained on it\n",
    "from sklearn.preprocessing import LabelEncoder\n",
    "y_test_encoded= encoder.transform(y_test)\n",
    "y_test_array=np.array(y_test_encoded)\n",
    "y_test_cat = keras.utils.to_categorical(y_test_array, num_classes=15)\n",
    "\n",
    "X_test_1=[0] * len(X_test)\n",
    "for i in range(0,len(X_test)):\n",
    "    X_test_1[i] = np.reshape((X_test.iloc[i]),(120,160,3))\n",
    "X_test_1 = np.asarray(X_test_1)\n",
    "\n",
    "# X_test_1 = X_test_1.astype('float32')\n",
    "X_test_1 = X_test_1/255"
   ]
  },
  {
   "cell_type": "code",
   "execution_count": 61,
   "metadata": {},
   "outputs": [
    {
     "name": "stdout",
     "output_type": "stream",
     "text": [
      "455/455 [==============================] - 19s 42ms/step\n",
      "Test loss: 1.3337275080628448\n",
      "Test accuracy: 0.5736263990402222\n"
     ]
    }
   ],
   "source": [
    "#Evaluating model\n",
    "scores = model.evaluate(X_test_1, y_test_cat, verbose=True)\n",
    "print('Test loss:', scores[0])\n",
    "print('Test accuracy:', scores[1])"
   ]
  },
  {
   "cell_type": "code",
   "execution_count": 62,
   "metadata": {},
   "outputs": [],
   "source": [
    "predictions = model.predict_classes(X_test_1)"
   ]
  },
  {
   "cell_type": "markdown",
   "metadata": {},
   "source": [
    "Evaluation part: Confusion matrix and F1 Score"
   ]
  },
  {
   "cell_type": "code",
   "execution_count": 63,
   "metadata": {},
   "outputs": [
    {
     "data": {
      "text/plain": [
       "array([[10, 15,  2,  0,  0,  0,  0,  0,  0,  0,  0,  0,  0,  0,  0],\n",
       "       [ 0, 23,  0,  0,  0,  0,  0,  0,  0,  0,  0,  0,  0,  0,  0],\n",
       "       [ 0, 11, 11,  0,  0,  0,  0,  0,  0,  0,  0,  0,  0,  0,  0],\n",
       "       [ 4,  2,  0, 24,  0,  0,  0,  0,  0,  0,  0,  0,  0,  0,  0],\n",
       "       [ 0,  0,  0,  0, 29,  0,  3,  0,  0,  0,  0,  0,  0,  0,  0],\n",
       "       [ 0,  6,  1,  0,  0, 29,  0,  0,  0,  0,  0,  0,  0,  0,  0],\n",
       "       [ 0, 22,  3,  0,  6, 12,  1,  0,  0,  0,  0,  0,  0,  0,  0],\n",
       "       [ 3,  0,  0,  0,  4,  0,  0, 13,  0,  0,  0,  2,  0,  0,  0],\n",
       "       [ 0,  1,  0,  0,  3,  0,  3,  0, 14,  0,  0,  0,  0,  0,  0],\n",
       "       [ 0,  1,  0,  0,  0, 13,  0,  0,  0,  6,  0,  0,  0,  0,  0],\n",
       "       [ 0,  0,  0,  0,  0,  0,  0,  0,  0,  0, 61,  0,  0,  0,  0],\n",
       "       [ 0,  7,  0,  0,  9,  1,  6,  0,  0,  0,  0,  3,  0,  0,  0],\n",
       "       [ 0,  1,  1,  0,  0,  0,  0,  0,  0,  0,  0,  0, 36,  0,  0],\n",
       "       [ 1,  5,  1,  0,  7,  0,  5,  0,  7,  0,  2,  1,  0,  0,  0],\n",
       "       [ 0,  2,  3,  0, 11,  3,  4,  0,  0,  0,  0,  0,  0,  0,  1]],\n",
       "      dtype=int64)"
      ]
     },
     "execution_count": 63,
     "metadata": {},
     "output_type": "execute_result"
    }
   ],
   "source": [
    "from sklearn.metrics import confusion_matrix\n",
    "confusion_matrix(y_test_array, predictions)"
   ]
  },
  {
   "cell_type": "code",
   "execution_count": 64,
   "metadata": {},
   "outputs": [
    {
     "name": "stdout",
     "output_type": "stream",
     "text": [
      "Precision score of 1st level classifier:0.57\n"
     ]
    }
   ],
   "source": [
    "#f1 score\n",
    "from sklearn.metrics import f1_score\n",
    "print('Precision score of 1st level classifier:%.2f'%f1_score(y_test_array, predictions,average=\"micro\"))"
   ]
  },
  {
   "cell_type": "code",
   "execution_count": null,
   "metadata": {},
   "outputs": [],
   "source": []
  }
 ],
 "metadata": {
  "kernelspec": {
   "display_name": "Python 3",
   "language": "python",
   "name": "python3"
  },
  "language_info": {
   "codemirror_mode": {
    "name": "ipython",
    "version": 3
   },
   "file_extension": ".py",
   "mimetype": "text/x-python",
   "name": "python",
   "nbconvert_exporter": "python",
   "pygments_lexer": "ipython3",
   "version": "3.7.4"
  }
 },
 "nbformat": 4,
 "nbformat_minor": 2
}
